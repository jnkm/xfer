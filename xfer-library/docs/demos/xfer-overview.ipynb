{
 "cells": [
  {
   "cell_type": "markdown",
   "metadata": {},
   "source": [
    "# Deep Transfer Learning with Xfer\n",
    "\n",
    "## Transfer learning in 3 lines of code:\n",
    "\n",
    "            repurposer = xfer.LrRepurposer(source_model, feature_layer_names=['fc7'])\n",
    "            repurposer.repurpose(train_iterator)\n",
    "            predictions = repurposer.predict_label(test_iterator)\n",
    "\n",
    "_Keep reading below to see Xfer in action!_"
   ]
  },
  {
   "cell_type": "markdown",
   "metadata": {},
   "source": [
    "\n",
    "## Overview  \n",
    "\n",
    "### What is Xfer?  \n",
    " \n",
    "Xfer is a library that allows quick and easy transfer of knowledge stored in deep neural networks. It can be used for the classification of data of arbitrary numeric format, and can be applied to the common cases of image or text data. \n",
    "\n",
    "Xfer can be used as a pipeline that spans from extracting features to training a repurposer. The repurposer is then an object that performs classification in the target task.\n",
    "\n",
    "You can also use individual components of Xfer as part of your own pipeline. For example, you can leverage the feature extractor to extract features from deep neural networks or ModelHandler, which allows for quick building of neural networks, even if you are not an MXNet expert.\n",
    "\n",
    "### How can Xfer help me?  \n",
    "- _Resource efficiency_: you don't have to train big neural networks from scratch.\n",
    "- _Data efficiency_: by transferring knowledge, you can classify complex data even if you have very few labels. \n",
    "- _Easy access to neural networks_: you don't need to be an ML ninja in order to leverage the power of neural networks. With Xfer you can easily re-use them or even modify existing architectures and create your own solution. \n",
    "- _Uncertainty modeling_: With the Bayesian neural network (BNN) or the Gaussian process (GP) repurposers, you can obtain uncertainty in the predictions of the repurposer.\n",
    "- _Utilities for feature extraction from neural networks_.\n",
    "- _Rapid prototyping_.\n",
    "\n",
    "### This Demo\n",
    "\n",
    "In this notebook we demonstrate Xfer in an image classification task. A pre-trained neural network is selected, from which we transfer knowledge for the classification task in the *target* domain. The *target* task is a much smaller set of images that come from a different domain (hand-drawn sketches), therefore the classifier from the *source* task cannot be used as is, without repurposing. Therefore, the aim is to train a new classifier and it is vital to transfer knowledge from the *source* task, due to the extremely scarce *target* dataset. The new classifier for the *target* task is either a meta-model or a modified and fine-tuned clone of the *source* task's neural network."
   ]
  },
  {
   "cell_type": "markdown",
   "metadata": {},
   "source": [
    "### Components \n",
    "\n",
    "Xfer is comprised of 2 components:\n",
    "\n",
    "* `ModelHandler` - Extracts features from pretrained model and performs model manipulation\n",
    "* `Repurposer` - Repurposes model for target task"
   ]
  },
  {
   "cell_type": "markdown",
   "metadata": {},
   "source": [
    "### Transfer Learing Pipeline  \n",
    "\n",
    "In the following, we demonstrate the Xfer workflow:\n",
    "\n",
    "1. A data iterator creation\n",
    "2. A pre-trained model selection (i.e. picking a _source task_)\n",
    "3. Feature extraction with the `ModelHandler`\n",
    "4. `Repurposer` used to perform transfer learning from the source task to the target task"
   ]
  },
  {
   "cell_type": "markdown",
   "metadata": {},
   "source": [
    "First we import or define all relevant modules and utilities."
   ]
  },
  {
   "cell_type": "code",
   "execution_count": 1,
   "metadata": {
    "collapsed": true
   },
   "outputs": [],
   "source": [
    "import numpy as np\n",
    "import os\n",
    "import json\n",
    "import random\n",
    "import logging\n",
    "import glob\n",
    "\n",
    "import mxnet as mx\n",
    "from sklearn.model_selection import StratifiedShuffleSplit\n",
    "from sklearn.metrics import classification_report\n",
    "from matplotlib import pylab as plt\n",
    "%matplotlib inline\n",
    "\n",
    "import xfer\n",
    "\n",
    "seed=2\n",
    "random.seed(seed)\n",
    "np.random.seed(seed)\n",
    "mx.random.seed(seed)\n",
    "\n",
    "logger = logging.getLogger()\n",
    "logger.setLevel(logging.INFO)\n",
    "\n",
    "# Change the default option below to test Xfer on other datasets (or use your own!).\n",
    "TEST_IMAGES = 'test_sketches/' # Options: 'test_images' or 'test_sketches' or 'test_images_sketch'"
   ]
  },
  {
   "cell_type": "code",
   "execution_count": 2,
   "metadata": {
    "collapsed": true
   },
   "outputs": [],
   "source": [
    "def get_iterators_from_folder(data_dir, train_size=0.6, batchsize=10, label_name='softmax_label', data_name='data', random_state=1):\n",
    "    \"\"\"\n",
    "    Method to create iterators from data stored in a folder with the following structure:\n",
    "    /data_dir\n",
    "        /class1\n",
    "            class1_img1\n",
    "            class1_img2\n",
    "            ...\n",
    "            class1_imgN\n",
    "        /class2\n",
    "            class2_img1\n",
    "            class2_img2\n",
    "            ...\n",
    "            class2_imgN\n",
    "        ...\n",
    "        /classN\n",
    "    \"\"\"\n",
    "    # assert dir exists\n",
    "    if not os.path.isdir(data_dir):\n",
    "        raise ValueError('Directory not found: {}'.format(data_dir))\n",
    "    # get class names\n",
    "    classes = [x.split('/')[-1] for x in glob.glob(data_dir+'/*')]\n",
    "    classes.sort()\n",
    "    fnames = []\n",
    "    labels = []\n",
    "    for c in classes:\n",
    "            # get all the image filenames and labels\n",
    "            images = glob.glob(data_dir+'/'+c+'/*')\n",
    "            images.sort()\n",
    "            fnames += images\n",
    "            labels += [c]*len(images)\n",
    "    # create label2id mapping\n",
    "    id2label = dict(enumerate(set(labels)))\n",
    "    label2id = dict((v,k) for k, v in id2label.items())\n",
    "\n",
    "    # get indices of train and test\n",
    "    sss = StratifiedShuffleSplit(n_splits=2, test_size=None, train_size=train_size, random_state=random_state)\n",
    "    train_indices, test_indices = next(sss.split(labels, labels))\n",
    "    \n",
    "    train_img_list = []\n",
    "    test_img_list = []\n",
    "    train_labels = []\n",
    "    test_labels = []\n",
    "    # create imglist for training and test\n",
    "    for idx in train_indices:\n",
    "        train_img_list.append([label2id[labels[idx]], fnames[idx]])\n",
    "        train_labels.append(label2id[labels[idx]])\n",
    "    for idx in test_indices:\n",
    "        test_img_list.append([label2id[labels[idx]], fnames[idx]])\n",
    "        test_labels.append(label2id[labels[idx]])\n",
    "        \n",
    "    # make iterators\n",
    "    train_iterator = mx.image.ImageIter(batchsize, (3,224,224), imglist=train_img_list, label_name=label_name, data_name=data_name,\n",
    "                                        path_root='')\n",
    "    test_iterator = mx.image.ImageIter(batchsize, (3,224,224), imglist=test_img_list, label_name=label_name, data_name=data_name,\n",
    "                                      path_root='')\n",
    "\n",
    "    return train_iterator, test_iterator, train_labels, test_labels, id2label, label2id\n",
    "\n",
    "\n",
    "def get_images(iterator):\n",
    "    \"\"\"\n",
    "    Returns list of image arrays from iterator\n",
    "    \"\"\"\n",
    "    iterator.reset()\n",
    "    images = []\n",
    "    while True:\n",
    "        try:\n",
    "            batch = iterator.next().data[0]\n",
    "            for n in range(batch.shape[0]):\n",
    "                images.append(batch[n])\n",
    "        except StopIteration:\n",
    "            break\n",
    "    return images\n",
    "\n",
    "\n",
    "def show_predictions(predictions, images, id2label, uncertainty=None, figsize=(9,1.2), fontsize=12, n=8):\n",
    "    \"\"\"\n",
    "    Plots images with predictions as labels. If uncertainty is given then this is plotted below as a\n",
    "    series of horizontalbar charts.\n",
    "    \"\"\"\n",
    "    num_rows = 1 if uncertainty is None else 2\n",
    "    \n",
    "    plt.figure(figsize=figsize)\n",
    "    for cc in range(n):\n",
    "        plt.subplot(num_rows,n,1+cc)\n",
    "        plt.tick_params(\n",
    "                        axis='both',          # changes apply to the x-axis\n",
    "                        which='both',      # both major and minor ticks are affected\n",
    "                        bottom=False,      # ticks along the bottom edge are off\n",
    "                        top=False,         # ticks along the top edge are off\n",
    "                        left=False,\n",
    "                        labelleft=False,\n",
    "                        labelbottom=False) # labels along the bottom edge are off\n",
    "        plt.imshow(np.uint8(images[cc].asnumpy().transpose((1,2,0))))\n",
    "        plt.title(id2label[predictions[cc]].split(',')[0], fontsize=fontsize)\n",
    "        plt.axis\n",
    "\n",
    "    if uncertainty is not None:\n",
    "        pos = range(len(id2label.values()))\n",
    "        for cc in range(n):\n",
    "            plt.subplot(num_rows,n,n+1+cc)\n",
    "            # Normalize the bars to be 0-1 for better readability.\n",
    "            xx = uncertainty[cc]\n",
    "            xx = (xx-min(xx))/(max(xx)-min(xx))\n",
    "            plt.barh(pos, xx, align='center', height=0.3)\n",
    "            if cc == 0:\n",
    "                plt.yticks(pos, id2label.values())\n",
    "            else:\n",
    "                plt.gca().set_yticklabels([])\n",
    "            plt.gca().set_xticklabels([])\n",
    "            plt.grid(True)"
   ]
  },
  {
   "cell_type": "markdown",
   "metadata": {},
   "source": [
    "## Data Handling\n",
    "\n",
    "In order for Xfer to process data, it must be given as an MXNet data iterator (`mxnet.io.DataIter`). MXNet expects labels to be sequential integers starting at zero so we have mapped all our string labels to integers to avoid any unexpected behaviours.\n",
    "\n",
    "The data handling portion of the workflow is made up of the following steps:\n",
    "\n",
    "* Get iterators\n",
    "* Get labels\n",
    "* Get label to idx mapping dictionary"
   ]
  },
  {
   "cell_type": "code",
   "execution_count": 3,
   "metadata": {
    "scrolled": false
   },
   "outputs": [
    {
     "name": "stderr",
     "output_type": "stream",
     "text": [
      "INFO:root:Using 1 threads for decoding...\n",
      "INFO:root:Set enviroment variable MXNET_CPU_WORKER_NTHREADS to a larger number to use more threads.\n",
      "INFO:root:ImageIter: loading image list...\n",
      "INFO:root:Using 1 threads for decoding...\n",
      "INFO:root:Set enviroment variable MXNET_CPU_WORKER_NTHREADS to a larger number to use more threads.\n",
      "INFO:root:ImageIter: loading image list...\n"
     ]
    }
   ],
   "source": [
    "# We have chosen to split the data into train and test at a 60:40 ratio and use a batchsize of 4\n",
    "train_iterator, test_iterator, train_labels, test_labels, id2label, label2id = get_iterators_from_folder(TEST_IMAGES, 0.6, 4, label_name='prob_label', random_state=1)"
   ]
  },
  {
   "cell_type": "markdown",
   "metadata": {},
   "source": [
    "## Source Model\n",
    "ModelHandler is an Xfer module which handles everything related to the source pre-trained neural network. It can extract features given a target dataset and source model, and it can also manipulate the pre-trained network by adding/removing/freezing layers (we'll see this functionality in the next section). For now, we simply:\n",
    "\n",
    "* Load MXNet Module from file\n",
    "* Instantiate `ModelHandler` object with VGG-19 model as source model\n",
    "\n",
    "The VGG-19 model is a convolutional neural network trained on ImageNet and is good at image classification. Other models trained on ImageNet are likely to be good source models for this task."
   ]
  },
  {
   "cell_type": "code",
   "execution_count": 4,
   "metadata": {},
   "outputs": [
    {
     "name": "stderr",
     "output_type": "stream",
     "text": [
      "INFO:root:vgg19-0000.params exists, skipping download\n",
      "INFO:root:vgg19-symbol.json exists, skipping download\n"
     ]
    },
    {
     "data": {
      "text/plain": [
       "['vgg19-0000.params', 'vgg19-symbol.json']"
      ]
     },
     "execution_count": 4,
     "metadata": {},
     "output_type": "execute_result"
    }
   ],
   "source": [
    "# Download model\n",
    "path = 'http://data.mxnet.io/models/imagenet/'\n",
    "[mx.test_utils.download(path+'vgg/vgg19-0000.params'),\n",
    "mx.test_utils.download(path+'vgg/vgg19-symbol.json')]"
   ]
  },
  {
   "cell_type": "code",
   "execution_count": 5,
   "metadata": {
    "collapsed": true
   },
   "outputs": [],
   "source": [
    "source_model = mx.module.Module.load('vgg19', 0, label_names=['prob_label'])\n",
    "mh = xfer.model_handler.ModelHandler(source_model)"
   ]
  },
  {
   "cell_type": "markdown",
   "metadata": {},
   "source": [
    "## How well the pre-trained network alone is doing (without repurposing)?\n",
    "\n",
    "This section will show how well the pre-trained *source* model performs before any repurposing is applied."
   ]
  },
  {
   "cell_type": "code",
   "execution_count": 6,
   "metadata": {
    "collapsed": true
   },
   "outputs": [],
   "source": [
    "# Get pre-trained model without modifications\n",
    "model = mh.get_module(iterator=test_iterator)\n",
    "# Predict on our test data\n",
    "predictions = np.argmax(model.predict(test_iterator), axis=1).asnumpy().astype(int)"
   ]
  },
  {
   "cell_type": "code",
   "execution_count": 7,
   "metadata": {
    "collapsed": true,
    "scrolled": false
   },
   "outputs": [],
   "source": [
    "# This utility just allows us to translate image-id's of the imagenet dataset to human-readable labels\n",
    "with open('imagenet1000-class-to-human.json', 'r') as fp:\n",
    "    imagenet_class_to_human = json.load(fp)\n",
    "    \n",
    "imagenet_class_to_human = {int(k): v for k, v in imagenet_class_to_human.items()}"
   ]
  },
  {
   "cell_type": "code",
   "execution_count": 8,
   "metadata": {},
   "outputs": [
    {
     "data": {
      "image/png": "[encoded data removed]",
      "text/plain": [
       "<Figure size 1080x108 with 8 Axes>"
      ]
     },
     "metadata": {},
     "output_type": "display_data"
    }
   ],
   "source": [
    "# Plot all test images along with the predicted labels\n",
    "images = get_images(test_iterator)\n",
    "\n",
    "show_predictions(predictions, images, imagenet_class_to_human, None, (15, 1.5))"
   ]
  },
  {
   "cell_type": "markdown",
   "metadata": {},
   "source": [
    "The model is performing badly on our sketch images - it thinks most of our drawings are hooks! The reason for this is that the label and image distribution in the target task are different (having come from a different dataset) i.e the model has been trained on photographs of objects and so cannot sensibly classify these sketches. The results would get worse if the source/target dataset mismatch was larger. A __repurposing__ step is required to better align the pre-trained model with the target data. "
   ]
  },
  {
   "cell_type": "markdown",
   "metadata": {},
   "source": [
    "## Repurposing\n",
    "\n",
    "### (a) Repurposing with meta-models"
   ]
  },
  {
   "cell_type": "markdown",
   "metadata": {},
   "source": [
    "By repurposing with meta models, we use the neural network as a feature extractor and fit a different model on these features. "
   ]
  },
  {
   "cell_type": "code",
   "execution_count": 9,
   "metadata": {},
   "outputs": [
    {
     "name": "stderr",
     "output_type": "stream",
     "text": [
      "INFO:root:Logistic Regression (LR) Repuroser\n",
      "INFO:root:Extracting features from layers: fc7\n",
      "INFO:root:Processed batch 1\n",
      "INFO:root:Processed batch 2\n",
      "INFO:root:Processed batch 3\n",
      "INFO:root:Processed batch 4\n",
      "INFO:root:Processed batch 5\n",
      "INFO:root:Processed batch 6\n",
      " /anaconda/envs/matplotlib-backend/lib/python3.5/site-packages/sklearn/linear_model/sag.py:326: ConvergenceWarning:The max_iter was reached which means the coef_ did not converge\n",
      "INFO:root:Extracting features from layers: fc7\n",
      "INFO:root:Processed batch 1\n",
      "INFO:root:Processed batch 2\n",
      "INFO:root:Processed batch 3\n",
      "INFO:root:Processed batch 4\n",
      "INFO:root:LR Repurposer - Classification Results\n"
     ]
    },
    {
     "name": "stdout",
     "output_type": "stream",
     "text": [
      "             precision    recall  f1-score   support\n",
      "\n",
      "       tree      1.000     0.750     0.857         4\n",
      "        car      1.000     1.000     1.000         4\n",
      "     cheese      1.000     1.000     1.000         4\n",
      "      house      0.800     1.000     0.889         4\n",
      "\n",
      "avg / total      0.950     0.938     0.937        16\n",
      "\n"
     ]
    }
   ],
   "source": [
    "# Instantiate a Logistic Regression repurposer (other options: SVM; GP; NN, BNN repurposers)\n",
    "logging.info(\"Logistic Regression (LR) Repuroser\")\n",
    "repLR = xfer.LrRepurposer(source_model=source_model, feature_layer_names=['fc7'])\n",
    "repLR.repurpose(train_iterator)\n",
    "predictionsLR = repLR.predict_label(test_iterator)\n",
    "\n",
    "logging.info(\"LR Repurposer - Classification Results\")\n",
    "print(classification_report(test_labels, predictionsLR, target_names=list(id2label.values()), digits=3))"
   ]
  },
  {
   "cell_type": "code",
   "execution_count": 10,
   "metadata": {},
   "outputs": [
    {
     "data": {
      "image/png": "[encoded data removed]",
      "text/plain": [
       "<Figure size 1080x108 with 8 Axes>"
      ]
     },
     "metadata": {},
     "output_type": "display_data"
    }
   ],
   "source": [
    "show_predictions(predictionsLR, images, id2label, None, (15,1.5))"
   ]
  },
  {
   "cell_type": "markdown",
   "metadata": {},
   "source": [
    "### (b) Fine-tuning Neural Network repurposer\n",
    "\n",
    "Neural network repurposers will:\n",
    "\n",
    "* Modify the pretrained neural network architecture by adding and removing layers\n",
    "* Retrain the network with certain layers held fixed or randomised"
   ]
  },
  {
   "cell_type": "code",
   "execution_count": 11,
   "metadata": {},
   "outputs": [
    {
     "name": "stderr",
     "output_type": "stream",
     "text": [
      "INFO:root:fc8, prob deleted from model top\n",
      "INFO:root:Added new_fully_connected_layer, prob to model top\n",
      "WARNING:root:Already bound, ignoring bind()\n",
      " /anaconda/envs/matplotlib-backend/lib/python3.5/site-packages/mxnet/module/base_module.py:488: UserWarning:Parameters already initialized and force_init=False. init_params call ignored.\n",
      "INFO:root:Epoch[0] Train-accuracy=0.541667\n",
      "INFO:root:Epoch[0] Time cost=33.846\n",
      "INFO:root:Epoch[1] Train-accuracy=1.000000\n",
      "INFO:root:Epoch[1] Time cost=22.451\n",
      "INFO:root:Epoch[2] Train-accuracy=1.000000\n",
      "INFO:root:Epoch[2] Time cost=24.884\n",
      "INFO:root:Epoch[3] Train-accuracy=1.000000\n",
      "INFO:root:Epoch[3] Time cost=23.454\n",
      "INFO:root:Epoch[4] Train-accuracy=1.000000\n",
      "INFO:root:Epoch[4] Time cost=24.850\n",
      "INFO:root:NN Repurposer - Classification Results\n"
     ]
    },
    {
     "name": "stdout",
     "output_type": "stream",
     "text": [
      "             precision    recall  f1-score   support\n",
      "\n",
      "       tree      1.000     0.750     0.857         4\n",
      "        car      1.000     1.000     1.000         4\n",
      "     cheese      1.000     1.000     1.000         4\n",
      "      house      0.800     1.000     0.889         4\n",
      "\n",
      "avg / total      0.950     0.938     0.937        16\n",
      "\n"
     ]
    }
   ],
   "source": [
    "# Choose which layers of the model to fix during training - more fixed layers lead to faster training\n",
    "fixed_layers = ['conv1_1','conv1_2','conv2_1','conv2_2','conv3_1','conv3_2','conv3_3','conv3_4',\n",
    "                'conv4_1','conv4_2', 'conv4_3','conv4_4','conv5_1','conv5_2','conv5_3', 'conv5_4']\n",
    "# Choose which layers of the model to randomise before training - we may want to forget some of what\n",
    "# this model knows\n",
    "random_layers = []\n",
    "\n",
    "repNN = xfer.NeuralNetworkRandomFreezeRepurposer(source_model, target_class_count=4, fixed_layers=fixed_layers, random_layers=random_layers)\n",
    "repNN.repurpose(train_iterator)\n",
    "predictionsNN = repNN.predict_label(test_iterator)\n",
    "logging.info(\"NN Repurposer - Classification Results\")\n",
    "print(classification_report(test_labels, predictionsNN, target_names=list(id2label.values()), digits=3))"
   ]
  },
  {
   "cell_type": "markdown",
   "metadata": {},
   "source": [
    "The neural network repurposer will likely not be great if the target dataset is extremely small."
   ]
  },
  {
   "cell_type": "markdown",
   "metadata": {},
   "source": [
    "### (c) Repurposing with probability and uncertainty  \n",
    "Two repurposers offer well-calibrated probability for predictions: `GPRepurposer` and `BNNRepurposer`. Here we explore the former (the latter can be used for non-tiny datasets)."
   ]
  },
  {
   "cell_type": "code",
   "execution_count": 12,
   "metadata": {},
   "outputs": [
    {
     "name": "stderr",
     "output_type": "stream",
     "text": [
      "INFO:root:Extracting features from layers: fc6\n",
      "INFO:root:Processed batch 1\n",
      "INFO:root:Processed batch 2\n",
      "INFO:root:Processed batch 3\n",
      "INFO:root:Processed batch 4\n",
      "INFO:root:Processed batch 5\n",
      "INFO:root:Processed batch 6\n",
      "INFO:GP:initializing Y\n",
      "INFO:GP:initializing inference method\n",
      "INFO:GP:adding kernel and likelihood as parameters\n",
      "INFO:GP:initializing Y\n",
      "INFO:GP:initializing inference method\n",
      "INFO:GP:adding kernel and likelihood as parameters\n",
      "INFO:GP:initializing Y\n",
      "INFO:GP:initializing inference method\n",
      "INFO:GP:adding kernel and likelihood as parameters\n",
      "INFO:GP:initializing Y\n",
      "INFO:GP:initializing inference method\n",
      "INFO:GP:adding kernel and likelihood as parameters\n",
      "INFO:root:GP Repurposer - Classification Results\n",
      "INFO:root:Extracting features from layers: fc6\n",
      "INFO:root:Processed batch 1\n",
      "INFO:root:Processed batch 2\n",
      "INFO:root:Processed batch 3\n",
      "INFO:root:Processed batch 4\n"
     ]
    },
    {
     "name": "stdout",
     "output_type": "stream",
     "text": [
      "             precision    recall  f1-score   support\n",
      "\n",
      "       tree      1.000     0.750     0.857         4\n",
      "        car      1.000     1.000     1.000         4\n",
      "     cheese      1.000     1.000     1.000         4\n",
      "      house      0.800     1.000     0.889         4\n",
      "\n",
      "avg / total      0.950     0.938     0.937        16\n",
      "\n"
     ]
    }
   ],
   "source": [
    "# Instantiate a GP repurposer\n",
    "repGP = xfer.GpRepurposer(source_model, feature_layer_names=['fc6'], apply_l2_norm=True)\n",
    "repGP.repurpose(train_iterator)\n",
    "\n",
    "logging.info(\"GP Repurposer - Classification Results\")\n",
    "uncertaintyGP = repGP.predict_probability(test_iterator)\n",
    "predictionsGP = np.argmax(uncertaintyGP, axis=1)\n",
    "\n",
    "print(classification_report(test_labels, predictionsGP,\n",
    "    target_names=list(id2label.values()), digits=3))"
   ]
  },
  {
   "cell_type": "markdown",
   "metadata": {},
   "source": [
    "The code below will plot the predictions and the probability for each class."
   ]
  },
  {
   "cell_type": "code",
   "execution_count": 13,
   "metadata": {},
   "outputs": [
    {
     "data": {
      "image/png": "[encoded data removed]",
      "text/plain": [
       "<Figure size 1224x273.6 with 16 Axes>"
      ]
     },
     "metadata": {},
     "output_type": "display_data"
    }
   ],
   "source": [
    "show_predictions(predictionsGP, images, id2label, uncertaintyGP, (17,3.8))"
   ]
  },
  {
   "cell_type": "markdown",
   "metadata": {},
   "source": [
    "We not only have predictions from this model but we can also see the uncertainty in the model for any given predition which allows us to make better decisions on our data.\n",
    "\n",
    "### Other repurposers\n",
    "We have seen the use of LrRepurposer, NeuralNetworkRandomFreezeRepurposer and GpRepurposer.  Other repurposers offered are: SvmRepurposer, BnnRepurposer, NeuralNetworkFineTuneRepurposer.\n",
    "\n",
    "You can also [write your own repurposer](xfer-custom-repurposers.rst)"
   ]
  },
  {
   "cell_type": "markdown",
   "metadata": {},
   "source": [
    "## Using Xfer on your own data  \n",
    "All you need to do is generate your own data iterator and use it instead of the iterators used above.\n",
    "\n",
    "For more details see the [API documentation](../api.html)"
   ]
  },
  {
   "cell_type": "code",
   "execution_count": null,
   "metadata": {
    "collapsed": true
   },
   "outputs": [],
   "source": []
  }
 ],
 "metadata": {
  "kernelspec": {
   "display_name": "Python 3",
   "language": "python",
   "name": "python3"
  },
  "language_info": {
   "codemirror_mode": {
    "name": "ipython",
    "version": 3
   },
   "file_extension": ".py",
   "mimetype": "text/x-python",
   "name": "python",
   "nbconvert_exporter": "python",
   "pygments_lexer": "ipython3",
   "version": "3.5.5"
  }
 },
 "nbformat": 4,
 "nbformat_minor": 2
}
